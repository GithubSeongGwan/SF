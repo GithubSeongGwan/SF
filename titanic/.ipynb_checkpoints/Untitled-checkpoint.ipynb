{
 "cells": [
  {
   "cell_type": "code",
   "execution_count": 1,
   "id": "63a01cbb",
   "metadata": {},
   "outputs": [],
   "source": [
    "import string\n",
    "\n",
    "list_1 = ['apple', 'banana', 'cat', 'dog']\n",
    "\n",
    "for i in range(4) :\n",
    "    temp = string.ascii_lowercase[i]\n",
    "    globals()['' + temp] = list_1[i]"
   ]
  },
  {
   "cell_type": "code",
   "execution_count": 3,
   "id": "55c3331d",
   "metadata": {},
   "outputs": [
    {
     "name": "stdout",
     "output_type": "stream",
     "text": [
      "apple banana cat dog\n"
     ]
    }
   ],
   "source": [
    "print(a,b,c,d)"
   ]
  },
  {
   "cell_type": "code",
   "execution_count": 4,
   "id": "e403a3b6",
   "metadata": {},
   "outputs": [
    {
     "name": "stdout",
     "output_type": "stream",
     "text": [
      "None\n",
      "None\n",
      "None\n",
      "None\n"
     ]
    }
   ],
   "source": [
    "for i in range(4) :\n",
    "    temp1 = string.ascii_lowercase[i]\n",
    "    print(exec(temp1))"
   ]
  }
 ],
 "metadata": {
  "kernelspec": {
   "display_name": "MLDL",
   "language": "python",
   "name": "mldl"
  },
  "language_info": {
   "codemirror_mode": {
    "name": "ipython",
    "version": 3
   },
   "file_extension": ".py",
   "mimetype": "text/x-python",
   "name": "python",
   "nbconvert_exporter": "python",
   "pygments_lexer": "ipython3",
   "version": "3.8.10"
  }
 },
 "nbformat": 4,
 "nbformat_minor": 5
}
